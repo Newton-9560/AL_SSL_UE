{
 "cells": [
  {
   "cell_type": "code",
   "execution_count": null,
   "metadata": {},
   "outputs": [],
   "source": [
    "from sentence_transformers import CrossEncoder\n",
    "\n",
    "model = CrossEncoder('cross-encoder/stsb-roberta-large', device='cuda')\n",
    "scores = model.predict([('Sentence 1', 'Sentence 2'), ('Sentence 3', 'Sentence 4')])"
   ]
  },
  {
   "cell_type": "code",
   "execution_count": 1,
   "metadata": {},
   "outputs": [
    {
     "name": "stderr",
     "output_type": "stream",
     "text": [
      "/home/hanwenli/anaconda3/envs/debug/lib/python3.10/site-packages/tqdm/auto.py:21: TqdmWarning: IProgress not found. Please update jupyter and ipywidgets. See https://ipywidgets.readthedocs.io/en/stable/user_install.html\n",
      "  from .autonotebook import tqdm as notebook_tqdm\n",
      "Loading checkpoint shards: 100%|██████████| 3/3 [00:05<00:00,  1.81s/it]\n"
     ]
    },
    {
     "name": "stdout",
     "output_type": "stream",
     "text": [
      "True\n"
     ]
    },
    {
     "name": "stderr",
     "output_type": "stream",
     "text": [
      "Starting from v4.46, the `logits` model output will have the same type as the model (except at train time, where it will always be FP32)\n",
      "From v4.47 onwards, when a model cache is to be returned, `generate` will return a `Cache` instance instead by default (as opposed to the legacy tuple of tuples format). If you want to keep returning the legacy format, please set `return_legacy_cache=True`.\n"
     ]
    }
   ],
   "source": [
    "from lm_polygraph.estimators import SAR\n",
    "from lm_polygraph import estimate_uncertainty\n",
    "from lm_polygraph.utils.model import WhiteboxModel\n",
    "from transformers import logging, DebertaForSequenceClassification, DebertaTokenizer\n",
    "import torch\n",
    "from transformers import AutoModelForCausalLM, LlamaForCausalLM, AutoTokenizer, AutoConfig\n",
    "\n",
    "# %%\n",
    "model_path = 'mistralai/Mistral-7B-Instruct-v0.3'\n",
    "model = AutoModelForCausalLM.from_pretrained(model_path, device_map='auto', torch_dtype=torch.float16)\n",
    "tokenizer = AutoTokenizer.from_pretrained(model_path)\n",
    "model.config.pad_token_id = 2\n",
    "model.generation_config.pad_token_id = 2\n",
    "tokenizer.pad_token = tokenizer.eos_token\n",
    "\n",
    "# %%\n",
    "print(tokenizer.is_fast)\n",
    "\n",
    "# %%\n",
    "question = 'Answer the question in five words or less: Who is the president of the United States?'\n",
    "ue_model = WhiteboxModel(model, tokenizer)\n",
    "output = estimate_uncertainty(ue_model, SAR(), question)"
   ]
  },
  {
   "cell_type": "code",
   "execution_count": 4,
   "metadata": {},
   "outputs": [
    {
     "name": "stdout",
     "output_type": "stream",
     "text": [
      "You are a chemistry assistant that helps identify the correct tool to call for molecular property analysis and extract the SMILES string from a user's question.\n",
      "\n",
      "AVAILABLE_TOOLS:\n",
      "- CalculateMolecularWeight: Use this tool when you need to calculate the molecular weight of a SMILES string. Units in Dalton.\n",
      "- CalculateQED: Compute Quantitative Estimate of Druglikeness (QED) of the given molecule.\n",
      "- BrenkFilter: Used when you need to calculate whether a molecule triggers the Brenk Filter.\n",
      "- CalculateTPSA: Compute the Topological polar surface area (TPSA) of the given molecule.\n",
      "- CalculateBBBPermeant: Calculates the Blood Brain Barrier Permeability of the compound.\n",
      "- calculate_druglikeness: Calculates the druglikeness of the compound with regards to Lipinski's rule of 5.\n",
      "- calculate_gi_absorption: Returns whether the gastrointestinal absorption is high or low.\n",
      "- CalculateLogP: Use this tool when you need to calculate the log of the partition coefficient (LogP) of a compound.\n",
      "- PainsFilter: Used when you need to calculate whether a molecule triggers the PAINS Filter.\n",
      "- CalculateSA: Used to compute the synthetic accessibility (SA) of the given molecule.\n",
      "\n",
      "Your task:\n",
      "1. Extract the SMILES string from the question.\n",
      "2. Determine the correct tool name to call based on the intent.\n",
      "\n",
      "Respond in the following format:\n",
      "SMILES: <smiles_string>  \n",
      "Function: <tool_name>\n",
      "\n",
      "---\n",
      "\n",
      "Example 1:  \n",
      "Question: What is the QED of CCO?  \n",
      "SMILES: CCO  \n",
      "Function: CalculateQED\n",
      "\n",
      "Example 2:  \n",
      "Question: Is the SMILES: C=C1C(C2(C(C(C1(C2(Cl)Cl)Cl)Cl)Cl)Cl)(CCl)CCl, druglike?  \n",
      "SMILES: C=C1C(C2(C(C(C1(C2(Cl)Cl)Cl)Cl)Cl)Cl)(CCl)CCl  \n",
      "Function: calculate_druglikeness\n",
      "\n",
      "---\n",
      "\n",
      "Question: hi\n",
      "\n"
     ]
    }
   ],
   "source": [
    "prompt_template = \"\"\"You are a chemistry assistant that helps identify the correct tool to call for molecular property analysis and extract the SMILES string from a user's question.\n",
    "\n",
    "AVAILABLE_TOOLS:\n",
    "- CalculateMolecularWeight: Use this tool when you need to calculate the molecular weight of a SMILES string. Units in Dalton.\n",
    "- CalculateQED: Compute Quantitative Estimate of Druglikeness (QED) of the given molecule.\n",
    "- BrenkFilter: Used when you need to calculate whether a molecule triggers the Brenk Filter.\n",
    "- CalculateTPSA: Compute the Topological polar surface area (TPSA) of the given molecule.\n",
    "- CalculateBBBPermeant: Calculates the Blood Brain Barrier Permeability of the compound.\n",
    "- calculate_druglikeness: Calculates the druglikeness of the compound with regards to Lipinski's rule of 5.\n",
    "- calculate_gi_absorption: Returns whether the gastrointestinal absorption is high or low.\n",
    "- CalculateLogP: Use this tool when you need to calculate the log of the partition coefficient (LogP) of a compound.\n",
    "- PainsFilter: Used when you need to calculate whether a molecule triggers the PAINS Filter.\n",
    "- CalculateSA: Used to compute the synthetic accessibility (SA) of the given molecule.\n",
    "\n",
    "Your task:\n",
    "1. Extract the SMILES string from the question.\n",
    "2. Determine the correct tool name to call based on the intent.\n",
    "\n",
    "Respond in the following format:\n",
    "SMILES: <smiles_string>  \n",
    "Function: <tool_name>\n",
    "\n",
    "---\n",
    "\n",
    "Example 1:  \n",
    "Question: What is the QED of CCO?  \n",
    "SMILES: CCO  \n",
    "Function: CalculateQED\n",
    "\n",
    "Example 2:  \n",
    "Question: Is the SMILES: C=C1C(C2(C(C(C1(C2(Cl)Cl)Cl)Cl)Cl)Cl)(CCl)CCl, druglike?  \n",
    "SMILES: C=C1C(C2(C(C(C1(C2(Cl)Cl)Cl)Cl)Cl)Cl)(CCl)CCl  \n",
    "Function: calculate_druglikeness\n",
    "\n",
    "---\n",
    "\n",
    "Question: {input}\n",
    "\"\"\"\n",
    "question = prompt_template.format(input='hi')\n",
    "print(question)"
   ]
  },
  {
   "cell_type": "code",
   "execution_count": 2,
   "metadata": {},
   "outputs": [
    {
     "data": {
      "text/plain": [
       "UncertaintyOutput(uncertainty=-8.546707266514412, input_text='Answer the question in five words or less: Who is the president of the United States?', generation_text='Joe Biden (as of March 2023)', generation_tokens=[8601, 22145, 1093, 1061, 1070, 4885, 29473, 29518, 29502, 29518, 29538, 29499], model_path=None, estimator='SAR')"
      ]
     },
     "execution_count": 2,
     "metadata": {},
     "output_type": "execute_result"
    }
   ],
   "source": [
    "output"
   ]
  }
 ],
 "metadata": {
  "kernelspec": {
   "display_name": "debug",
   "language": "python",
   "name": "python3"
  },
  "language_info": {
   "codemirror_mode": {
    "name": "ipython",
    "version": 3
   },
   "file_extension": ".py",
   "mimetype": "text/x-python",
   "name": "python",
   "nbconvert_exporter": "python",
   "pygments_lexer": "ipython3",
   "version": "3.10.16"
  }
 },
 "nbformat": 4,
 "nbformat_minor": 2
}
