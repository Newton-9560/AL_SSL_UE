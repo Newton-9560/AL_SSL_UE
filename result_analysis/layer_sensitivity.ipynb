{
 "cells": [
  {
   "cell_type": "code",
   "execution_count": 1,
   "metadata": {},
   "outputs": [],
   "source": [
    "import pickle\n",
    "import os\n",
    "import matplotlib.pyplot as plt\n",
    "import numpy as np\n"
   ]
  },
  {
   "cell_type": "code",
   "execution_count": 2,
   "metadata": {},
   "outputs": [
    {
     "name": "stdout",
     "output_type": "stream",
     "text": [
      "29\n"
     ]
    },
    {
     "data": {
      "text/plain": [
       "['Solarize_Light2',\n",
       " '_classic_test_patch',\n",
       " '_mpl-gallery',\n",
       " '_mpl-gallery-nogrid',\n",
       " 'bmh',\n",
       " 'classic',\n",
       " 'dark_background',\n",
       " 'fast',\n",
       " 'fivethirtyeight',\n",
       " 'ggplot',\n",
       " 'grayscale',\n",
       " 'petroff10',\n",
       " 'seaborn-v0_8',\n",
       " 'seaborn-v0_8-bright',\n",
       " 'seaborn-v0_8-colorblind',\n",
       " 'seaborn-v0_8-dark',\n",
       " 'seaborn-v0_8-dark-palette',\n",
       " 'seaborn-v0_8-darkgrid',\n",
       " 'seaborn-v0_8-deep',\n",
       " 'seaborn-v0_8-muted',\n",
       " 'seaborn-v0_8-notebook',\n",
       " 'seaborn-v0_8-paper',\n",
       " 'seaborn-v0_8-pastel',\n",
       " 'seaborn-v0_8-poster',\n",
       " 'seaborn-v0_8-talk',\n",
       " 'seaborn-v0_8-ticks',\n",
       " 'seaborn-v0_8-white',\n",
       " 'seaborn-v0_8-whitegrid',\n",
       " 'tableau-colorblind10']"
      ]
     },
     "execution_count": 2,
     "metadata": {},
     "output_type": "execute_result"
    }
   ],
   "source": [
    "print(len(plt.style.available))\n",
    "styles = plt.style.available\n",
    "plt.style.available"
   ]
  },
  {
   "cell_type": "code",
   "execution_count": 3,
   "metadata": {},
   "outputs": [],
   "source": [
    "models_name = ['llama3', 'opt', 'qwen']\n",
    "\n",
    "def get_model_files(model_name):\n",
    "    model_files = []\n",
    "    print('Found the following files for model ', model_name)\n",
    "    for file in os.listdir('/home/hanwenli/work/2025/AL_SSL/results/'):\n",
    "        if file.startswith(model_name):\n",
    "            model_files.append(file)\n",
    "            print(file)\n",
    "    return model_files\n"
   ]
  },
  {
   "cell_type": "code",
   "execution_count": null,
   "metadata": {},
   "outputs": [],
   "source": [
    "files = get_model_files('Mistral')\n",
    "\n",
    "aurocs = []\n",
    "plt.style.use('seaborn-v0_8-paper')\n",
    "plt.figure(figsize=(10, 5))\n",
    "\n",
    "for file in files:\n",
    "    file = os.path.join('/home/hanwenli/work/2025/AL_SSL/results/', file)\n",
    "    with open(file, 'rb') as f:\n",
    "        data = pickle.load(f)\n",
    "        auroc = np.array([lay['auroc'] for lay in data])\n",
    "        aurocs.append(auroc)\n",
    "        plt.plot(auroc, marker='o', label=(file.split('/')[-1:])[0].upper())\n",
    "\n",
    "# plt.xlabel('Layer')\n",
    "# plt.ylabel('AUROC')\n",
    "# plt.title('AUROC vs Layer for Different Datasets')\n",
    "plt.legend()\n",
    "plt.grid(True, color='gray', linestyle='--', linewidth=0.5, alpha=0.7)\n",
    "\n",
    "plt.savefig('auroc_vs_layer_qwen.png')\n",
    "plt.show()"
   ]
  },
  {
   "cell_type": "code",
   "execution_count": 15,
   "metadata": {},
   "outputs": [
    {
     "name": "stdout",
     "output_type": "stream",
     "text": [
      "Found the following files for model  llama3\n",
      "llama3_sciq_layer_31.pkl\n",
      "llama3_coqa_layer_31.pkl\n",
      "llama3_trivia_qa_layer_31.pkl\n",
      "/home/hanwenli/work/2025/AL_SSL/results/llama3_sciq_layer_31.pkl\n",
      "/home/hanwenli/work/2025/AL_SSL/results/llama3_coqa_layer_31.pkl\n",
      "/home/hanwenli/work/2025/AL_SSL/results/llama3_trivia_qa_layer_31.pkl\n"
     ]
    }
   ],
   "source": [
    "files = get_model_files('llama3')\n",
    "\n",
    "data_lines = []\n",
    "colors = colors = ['#CEDCE9', '#CEDCE9', '#4F7BA8']\n",
    "\n",
    "for i, file in enumerate(files):\n",
    "    file = os.path.join('/home/hanwenli/work/2025/AL_SSL/results/', file)\n",
    "    print(file)\n",
    "    with open(file, 'rb') as f:\n",
    "        data = pickle.load(f)\n",
    "        auroc = np.array([lay['auroc'] for lay in data])\n",
    "        \n",
    "        data_point = {'name': (file.split('_', 3)[2:3])[0].upper(), 'x_array': range(len(auroc)), 'y_array': auroc, 'marker': 'o', 'color': colors[i]}\n",
    "        data_lines.append(data_point)\n",
    "        \n",
    "        \n",
    "# files = get_model_files('qwen')\n",
    "\n",
    "# colors = [\"#bee9e8\", \"#62b6cb\", \"#1b4965\"]\n",
    "# for i, file in enumerate(files):\n",
    "#     file = os.path.join('/home/hanwenli/work/2025/AL_SSL/results/', file)\n",
    "#     print(file)\n",
    "#     with open(file, 'rb') as f:\n",
    "#         data = pickle.load(f)\n",
    "#         auroc = np.array([lay['auroc'] for lay in data])\n",
    "        \n",
    "#         data_point = {'name': 'Qwen2.5_'+(file.split('_', 3)[2:3])[0], 'x_array': range(len(auroc)), 'y_array': auroc, 'marker': '*', 'color': colors[i]}\n",
    "#         data_lines.append(data_point)\n",
    "\n",
    "# from papergraph.dict_list.plot import ListPloter\n",
    "# plotter = ListPloter()\n",
    "# plotter.cfg.x_label = 'Layer'\n",
    "# plotter.cfg.y_label = 'AUROC'\n",
    "# plotter.cfg.title = 'AUROC vs Layer'\n",
    "# plotter.plot_bars(data_lines, save_path='/home/hanwenli/work/2025/AL_SSL/result_analysis/llama3&qwen_auroc_vs_layer.png')"
   ]
  },
  {
   "cell_type": "code",
   "execution_count": null,
   "metadata": {},
   "outputs": [],
   "source": [
    "data_lines"
   ]
  },
  {
   "cell_type": "code",
   "execution_count": null,
   "metadata": {},
   "outputs": [],
   "source": [
    "\n",
    "# AUROC values\n",
    "auroc_values_trivia_qa = [\n",
    "    0.6843361711919006, 0.8580878969167051, 0.8664432811780949,\n",
    "    0.8837916091425065, 0.8838395459426294, 0.874453520478601,\n",
    "    0.8680204019021323, 0.8740796134376438, 0.8825740144193895,\n",
    "    0.8725935726338395, 0.8852680625862861, 0.8728620187145267,\n",
    "    0.8820754716981132, 0.8818741371375979\n",
    "]\n",
    "\n",
    "# Corresponding labeled data sizes (25 to 400, evenly spaced)\n",
    "labeled_data_sizes = list(range(25, 425, 25)[2:])  # step=25, ends at 400\n",
    "\n",
    "# Plot\n",
    "plt.figure(figsize=(10, 5))\n",
    "plt.plot(labeled_data_sizes, auroc_values_trivia_qa, marker='o', label='TRIVIA_QA')\n",
    "\n",
    "plt.grid(True, color='gray', linestyle='--', linewidth=0.5, alpha=0.7)\n",
    "plt.tight_layout()\n",
    "plt.savefig('data_e.png')\n",
    "plt.show()\n"
   ]
  },
  {
   "cell_type": "code",
   "execution_count": null,
   "metadata": {},
   "outputs": [],
   "source": [
    "r = []\n",
    "for i in range(len(aurocs[0])):\n",
    "    total = 0\n",
    "    for j in range(len(aurocs)):\n",
    "        total += aurocs[j][i]\n",
    "    r.append(total)\n",
    "r.index(max(r))\n"
   ]
  },
  {
   "cell_type": "markdown",
   "metadata": {},
   "source": [
    "# Calculate the AUROC"
   ]
  },
  {
   "cell_type": "code",
   "execution_count": 1,
   "metadata": {},
   "outputs": [],
   "source": [
    "import pickle\n",
    "import os\n",
    "import matplotlib.pyplot as plt\n",
    "import numpy as np"
   ]
  },
  {
   "cell_type": "code",
   "execution_count": 2,
   "metadata": {},
   "outputs": [],
   "source": [
    "def get_model_files(model_name):\n",
    "    model_files = []\n",
    "    print('Found the following files for model ', model_name)\n",
    "    for file in os.listdir('/home/hanwenli/work/2025/AL_SSL/results/'):\n",
    "        if file.startswith(model_name):\n",
    "            model_files.append(file)\n",
    "            print(file)\n",
    "    return model_files"
   ]
  },
  {
   "cell_type": "code",
   "execution_count": null,
   "metadata": {},
   "outputs": [],
   "source": [
    "files = get_model_files('llama3')\n",
    "\n",
    "data_lines = []\n",
    "colors = [\"#C4C4C4\",\"#4F7BA8\"]\n",
    "for i, file in enumerate(files):\n",
    "    file = os.path.join('/home/hanwenli/work/2025/AL_SSL/results/', file)\n",
    "    print(file)\n",
    "    with open(file, 'rb') as f:\n",
    "        data = pickle.load(f)\n",
    "        auroc = np.array([lay['auroc'] for lay in data])\n",
    "        \n",
    "        data_point = {'name': (file.split('_', 3)[2:3])[0].upper(), 'x_array': range(len(auroc)), 'y_array': auroc, 'marker': 'o', 'color': colors[i]}\n",
    "        data_lines.append(data_point)"
   ]
  },
  {
   "cell_type": "code",
   "execution_count": 37,
   "metadata": {},
   "outputs": [],
   "source": [
    "import matplotlib.pyplot as plt\n",
    "import numpy as np\n",
    "import seaborn as sns\n",
    "\n",
    "def plot_bar_chart(data, title=\"Performance Over Training Steps (Odd Steps)\", \n",
    "                  x_label=\"Training Step\", y_label=\"Accuracy\",\n",
    "                  figsize=(15, 8), save_path=None):\n",
    "    \"\"\"\n",
    "    Draw a bar chart for the y_array data with odd x_array indices only.\n",
    "    Each dataset (name) will use its specific color.\n",
    "    The first and last columns will be close to the borders.\n",
    "    Bars are extra wide for better visibility.\n",
    "    \n",
    "    Parameters:\n",
    "    -----------\n",
    "    data : list of dict\n",
    "        Each dict should contain 'name', 'x_array', 'y_array', and 'color' keys\n",
    "    title : str\n",
    "        Title of the plot\n",
    "    x_label : str\n",
    "        Label for x-axis\n",
    "    y_label : str\n",
    "        Label for y-axis\n",
    "    figsize : tuple\n",
    "        Figure size (width, height)\n",
    "    save_path : str or None\n",
    "        Path to save the figure, if None, the figure will not be saved\n",
    "        \n",
    "    Returns:\n",
    "    --------\n",
    "    fig, ax : matplotlib figure and axis objects\n",
    "    \"\"\"\n",
    "    # Set the seaborn theme\n",
    "    sns.set_theme(style=\"whitegrid\", context=\"paper\")\n",
    "    \n",
    "    # Create figure and axis\n",
    "    fig, ax = plt.subplots(figsize=figsize)\n",
    "    \n",
    "    # Filter to keep only odd indices\n",
    "    filtered_data = []\n",
    "    for dataset in data:\n",
    "        if dataset['name'] == 'SCIQ':\n",
    "            continue\n",
    "        # Get odd indices\n",
    "        odd_indices = [i for i in range(len(dataset['x_array'])) if i % 2 == 1]\n",
    "        \n",
    "        # Create filtered dataset\n",
    "        filtered = {\n",
    "            'name': dataset['name'],\n",
    "            'x_array': [dataset['x_array'][i] for i in odd_indices],\n",
    "            'y_array': np.array([dataset['y_array'][i] for i in odd_indices]),\n",
    "            'color': dataset['color']\n",
    "        }\n",
    "        filtered_data.append(filtered)\n",
    "    \n",
    "    # Number of datasets and steps\n",
    "    num_datasets = len(filtered_data)\n",
    "    num_steps = len(filtered_data[0]['x_array'])\n",
    "    \n",
    "    # Width of each bar - INCREASED for extra wide bars\n",
    "    # Using 1.8 instead of 1.2 to make bars 50% wider again\n",
    "    width = 1.8 / num_datasets\n",
    "    colors = sns.color_palette('muted', num_datasets)\n",
    "    name_list = ['CoQA', 'TriviaQA']\n",
    "    # Plot bars for each dataset\n",
    "    for i, dataset in enumerate(filtered_data):\n",
    "        # Position offset for this dataset's bars\n",
    "        offset = (i - (num_datasets-1)/2) * width\n",
    "        \n",
    "        # Get x and y values\n",
    "        x_values = dataset['x_array']\n",
    "        y_values = dataset['y_array']\n",
    "        \n",
    "        # Plot the bars\n",
    "        bars = ax.bar(np.array(x_values) + offset, y_values*100, \n",
    "                     width=width, color=dataset['color'], \n",
    "                     label=name_list[i])\n",
    "    \n",
    "    # Add labels and title\n",
    "    plt.xlabel(x_label, fontsize=35, fontfamily='TeX Gyre Pagella')\n",
    "    plt.ylabel(y_label, fontsize=35, fontfamily='TeX Gyre Pagella')\n",
    "    plt.title(title, fontsize=35)\n",
    "    plt.xticks(fontsize=20)\n",
    "    plt.yticks(fontsize=20)\n",
    "    \n",
    "    # Set x-ticks to be exactly at the step positions\n",
    "    ax.set_xticks(filtered_data[0]['x_array'])\n",
    "    \n",
    "    # Set y-axis limits to focus on the range of values\n",
    "    all_y_values = np.concatenate([d['y_array'] for d in filtered_data])\n",
    "    y_min = np.min(all_y_values) * 0.95  # 5% margin below minimum\n",
    "    y_max = np.max(all_y_values) * 1.02  # 2% margin above maximum\n",
    "    ax.set_ylim(y_min*100, y_max*100)\n",
    "    \n",
    "    # Adjust the plot margins to bring the first and last columns close to the borders\n",
    "    # plt.subplots_adjust(left=0.05, right=0.97)\n",
    "    \n",
    "    # Adjust the axis limits to ensure first and last columns are close to borders\n",
    "    # Expanded further to accommodate extra wide bars\n",
    "    min_x = min(filtered_data[0]['x_array']) - 1.0\n",
    "    max_x = max(filtered_data[0]['x_array']) + 1.0\n",
    "    ax.set_xlim(min_x, max_x)\n",
    "    \n",
    "    # Add legend\n",
    "    ax.legend(loc='upper left', fontsize=30)\n",
    "    for spine in ax.spines.values():\n",
    "        spine.set_color('black')\n",
    "        spine.set_linewidth(1)\n",
    "    # Add grid for better readability\n",
    "    \n",
    "    # Save figure if path is provided\n",
    "    if save_path:\n",
    "        plt.savefig(save_path, dpi=300, bbox_inches='tight')\n",
    "        pass\n",
    "    \n",
    "    return fig, ax"
   ]
  },
  {
   "cell_type": "code",
   "execution_count": 38,
   "metadata": {},
   "outputs": [
    {
     "data": {
      "text/plain": [
       "(<Figure size 1600x800 with 1 Axes>,\n",
       " <Axes: title={'center': 'Llama3-8B-Instruct'}, xlabel='Layers', ylabel='AUROC (%)'>)"
      ]
     },
     "execution_count": 38,
     "metadata": {},
     "output_type": "execute_result"
    },
    {
     "data": {
      "image/png": "[encoded data removed]",
      "text/plain": [
       "<Figure size 1600x800 with 1 Axes>"
      ]
     },
     "metadata": {},
     "output_type": "display_data"
    }
   ],
   "source": [
    "plot_bar_chart(data_lines, title=\"Llama3-8B-Instruct\", x_label=\"Layers\", y_label=\"AUROC (%)\",figsize=(16, 8),save_path='/home/hanwenli/work/2025/AL_SSL/results/experiments/pdf_results//llama3_layer_sensitivity_flat.pdf')"
   ]
  }
 ],
 "metadata": {
  "kernelspec": {
   "display_name": "debug",
   "language": "python",
   "name": "python3"
  },
  "language_info": {
   "codemirror_mode": {
    "name": "ipython",
    "version": 3
   },
   "file_extension": ".py",
   "mimetype": "text/x-python",
   "name": "python",
   "nbconvert_exporter": "python",
   "pygments_lexer": "ipython3",
   "version": "3.10.16"
  }
 },
 "nbformat": 4,
 "nbformat_minor": 2
}
