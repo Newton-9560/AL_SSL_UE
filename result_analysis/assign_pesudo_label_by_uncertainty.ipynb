{
 "cells": [
  {
   "cell_type": "code",
   "execution_count": 1,
   "metadata": {},
   "outputs": [],
   "source": [
    "import os\n",
    "os.chdir('/home/hanwenli/work/2025/AL_SSL/hidden_state')\n",
    "\n",
    "from utils import load_generated_result\n",
    "import numpy as np\n",
    "import math"
   ]
  },
  {
   "cell_type": "code",
   "execution_count": 2,
   "metadata": {},
   "outputs": [
    {
     "name": "stdout",
     "output_type": "stream",
     "text": [
      "Reading file:  8aa76b7b-1009-4ac4-8d7f-fc2f73ce5030.npy\n"
     ]
    }
   ],
   "source": [
    "result = load_generated_result('llama3', 'trivia_qa')"
   ]
  },
  {
   "cell_type": "code",
   "execution_count": 3,
   "metadata": {},
   "outputs": [
    {
     "data": {
      "text/plain": [
       "{'montecarlosequenceentropy': 2.6767156451132905,\n",
       " 'lexicalsimilarity': -0.19294532627865962,\n",
       " 'semanticentropy': 2.834320496712656,\n",
       " 'maximumsequenceprobability': 1.3573691844940186,\n",
       " 'sar': -7.501996362145998,\n",
       " 'align': 1.0,\n",
       " 'inputs': '<|begin_of_text|><|start_header_id|>user<|end_header_id|>\\nAnswer the question concisely. (less than 5 words)\\nQ: \"What fictional ship, with black hull and sails, was originally named \"\"Wicked Wench\"\"?\"<|eot_id|><|start_header_id|>assistant<|end_header_id|>\\nA: ',\n",
       " 'target_texts': ['wicked wench', 'black pearl'],\n",
       " 'answer': 'The Black Pearl.'}"
      ]
     },
     "execution_count": 3,
     "metadata": {},
     "output_type": "execute_result"
    }
   ],
   "source": [
    "result[0]"
   ]
  },
  {
   "cell_type": "code",
   "execution_count": 4,
   "metadata": {},
   "outputs": [
    {
     "name": "stdout",
     "output_type": "stream",
     "text": [
      "sar auroc: 0.8683\n",
      "maximumsequenceprobability auroc: 0.8328\n",
      "semanticentropy auroc: 0.8372\n",
      "lexicalsimilarity auroc: 0.8543\n",
      "montecarlosequenceentropy auroc: 0.8327\n"
     ]
    }
   ],
   "source": [
    "us_metrics = ['sar', 'maximumsequenceprobability', 'semanticentropy', 'lexicalsimilarity', 'montecarlosequenceentropy']\n",
    "correctness = [data['align']>0.5 for data in result]\n",
    "from sklearn.metrics import roc_auc_score\n",
    "for metric in us_metrics:\n",
    "    scores = []\n",
    "    labels = []\n",
    "    for data in result:\n",
    "        value = data.get(metric)\n",
    "        if value is not None and not math.isnan(value):\n",
    "            scores.append(-value)\n",
    "            labels.append(data['align'] > 0.5)\n",
    "    if len(set(labels)) < 2:\n",
    "        print(f'{metric} skipped: only one class present in y_true.')\n",
    "    else:\n",
    "        auroc = roc_auc_score(labels, scores)\n",
    "        print(f'{metric} auroc: {auroc:.4f}')\n"
   ]
  },
  {
   "cell_type": "code",
   "execution_count": 5,
   "metadata": {},
   "outputs": [],
   "source": [
    "def assign_labels_by_uncertainty(uncertainty_values, true_labels, high_threshold=0.4, low_threshold=0.4):\n",
    "    \"\"\"\n",
    "    Assigns labels based on uncertainty values.\n",
    "    - The top `high_threshold` proportion of uncertainty values are assigned True (1).\n",
    "    - The bottom `low_threshold` proportion of uncertainty values are assigned False (0).\n",
    "    \n",
    "    Parameters:\n",
    "        uncertainty_values (list or np.array): The uncertainty scores.\n",
    "        true_labels (list or np.array): The ground truth labels.\n",
    "        high_threshold (float): The proportion of highest uncertainty values to assign True.\n",
    "        low_threshold (float): The proportion of lowest uncertainty values to assign False.\n",
    "        \n",
    "    Returns:\n",
    "        assigned_labels (np.array): The assigned labels (-1 for unassigned).\n",
    "        accuracy (float): The accuracy of assigned labels compared to true labels.\n",
    "    \"\"\"\n",
    "    # Convert to numpy array\n",
    "    uncertainty_values = np.array(uncertainty_values)\n",
    "    true_labels = np.array(true_labels)\n",
    "\n",
    "    # Determine threshold indices\n",
    "    num_high = int(len(uncertainty_values) * high_threshold)\n",
    "    num_low = int(len(uncertainty_values) * low_threshold)\n",
    "\n",
    "    # Get sorted indices in ascending order\n",
    "    sorted_indices = np.argsort(uncertainty_values)\n",
    "\n",
    "    # Assign labels\n",
    "    assigned_labels = np.full_like(true_labels, -1)  # Initialize with -1 (unassigned)\n",
    "    assigned_labels[sorted_indices[:num_low]] = 0   # Lowest 40% assigned False (0)\n",
    "    assigned_labels[sorted_indices[-num_high:]] = 1 # Highest 30% assigned True (1)\n",
    "\n",
    "    # Compute accuracy (only on assigned labels)\n",
    "    mask = assigned_labels != -1  # Consider only assigned labels\n",
    "    accuracy = np.mean(assigned_labels[mask] == true_labels[mask])\n",
    "\n",
    "    return assigned_labels, accuracy"
   ]
  },
  {
   "cell_type": "code",
   "execution_count": 6,
   "metadata": {},
   "outputs": [
    {
     "data": {
      "text/plain": [
       "(array([ True,  True, False, ...,  True,  True,  True]), 0.84925)"
      ]
     },
     "execution_count": 6,
     "metadata": {},
     "output_type": "execute_result"
    }
   ],
   "source": [
    "labels = np.array([i['align']>0.5 for i in result])\n",
    "uncertainty1 = np.array([-i['sar'] for i in result])\n",
    "uncertainty2 = np.array([-i['sar'] for i in result])\n",
    "# assign_labels_by_uncertainty_2(uncertainty1, uncertainty2, labels, high_threshold=0.05, low_threshold=0.05)\n",
    "assign_labels_by_uncertainty(uncertainty2, labels, high_threshold=0.13, low_threshold=0.13)"
   ]
  }
 ],
 "metadata": {
  "kernelspec": {
   "display_name": "debug",
   "language": "python",
   "name": "python3"
  },
  "language_info": {
   "codemirror_mode": {
    "name": "ipython",
    "version": 3
   },
   "file_extension": ".py",
   "mimetype": "text/x-python",
   "name": "python",
   "nbconvert_exporter": "python",
   "pygments_lexer": "ipython3",
   "version": "3.10.16"
  }
 },
 "nbformat": 4,
 "nbformat_minor": 2
}
