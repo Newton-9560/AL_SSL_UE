{
 "cells": [
  {
   "cell_type": "code",
   "execution_count": 1,
   "metadata": {},
   "outputs": [],
   "source": [
    "import pickle\n",
    "\n",
    "def find_largest_auroc_index(pkl_file_path):\n",
    "    \"\"\"\n",
    "    Find the index of the dictionary with the largest 'auroc' value in a list loaded from a pickle file.\n",
    "    \n",
    "    Args:\n",
    "        pkl_file_path: Path to the pickle file containing a list of dictionaries\n",
    "        \n",
    "    Returns:\n",
    "        The index of the dictionary with the largest 'auroc' value\n",
    "    \"\"\"\n",
    "    # Load the data from the pickle file\n",
    "    with open(pkl_file_path, 'rb') as f:\n",
    "        data = pickle.load(f)\n",
    "    \n",
    "    # Verify that data is a list\n",
    "    if not isinstance(data, list):\n",
    "        raise TypeError(\"Data in pickle file must be a list\")\n",
    "    \n",
    "    # Find the index with largest AUROC\n",
    "    max_auroc = -float('inf')\n",
    "    max_index = -1\n",
    "    \n",
    "    for i, item in enumerate(data):\n",
    "        if 'auroc' in item and item['auroc'] > max_auroc:\n",
    "            max_auroc = item['auroc']\n",
    "            max_index = i\n",
    "    \n",
    "    return max_index, max_auroc"
   ]
  },
  {
   "cell_type": "code",
   "execution_count": 2,
   "metadata": {},
   "outputs": [
    {
     "data": {
      "text/plain": [
       "(14, 0.8505371487277591)"
      ]
     },
     "execution_count": 2,
     "metadata": {},
     "output_type": "execute_result"
    }
   ],
   "source": [
    "find_largest_auroc_index('/home/hanwenli/work/2025/AL_SSL/results/Mistral-7B-Instruct-v0.3_trivia_qa.pkl')"
   ]
  }
 ],
 "metadata": {
  "kernelspec": {
   "display_name": "debug",
   "language": "python",
   "name": "python3"
  },
  "language_info": {
   "codemirror_mode": {
    "name": "ipython",
    "version": 3
   },
   "file_extension": ".py",
   "mimetype": "text/x-python",
   "name": "python",
   "nbconvert_exporter": "python",
   "pygments_lexer": "ipython3",
   "version": "3.10.16"
  }
 },
 "nbformat": 4,
 "nbformat_minor": 2
}
