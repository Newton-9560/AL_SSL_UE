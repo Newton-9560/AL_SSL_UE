{
 "cells": [
  {
   "cell_type": "code",
   "execution_count": 1,
   "metadata": {},
   "outputs": [],
   "source": [
    "import pickle\n",
    "import os\n",
    "import matplotlib.pyplot as plt\n",
    "import numpy as np\n"
   ]
  },
  {
   "cell_type": "code",
   "execution_count": 2,
   "metadata": {},
   "outputs": [],
   "source": [
    "models_name = ['llama3', 'opt', 'qwen']\n",
    "\n",
    "def get_model_files(model_name):\n",
    "    model_files = []\n",
    "    print('Found the following files for model ', model_name)\n",
    "    for file in os.listdir('./'):\n",
    "        if file.startswith(model_name):\n",
    "            model_files.append(file)\n",
    "            print(file)\n",
    "    return model_files\n"
   ]
  },
  {
   "cell_type": "code",
   "execution_count": null,
   "metadata": {},
   "outputs": [],
   "source": [
    "files = get_model_files('qwen')"
   ]
  },
  {
   "cell_type": "code",
   "execution_count": null,
   "metadata": {},
   "outputs": [],
   "source": [
    "aurocs = []\n",
    "plt.figure(figsize=(10, 5))\n",
    "for file in files:\n",
    "    with open(file, 'rb') as f:\n",
    "        data = pickle.load(f)\n",
    "        auroc = np.array([lay['auroc'] for lay in data])\n",
    "        aurocs.append(auroc)\n",
    "        plt.plot(auroc, label=file)\n",
    "plt.legend()\n",
    "plt.grid()\n",
    "plt.show()"
   ]
  },
  {
   "cell_type": "code",
   "execution_count": null,
   "metadata": {},
   "outputs": [],
   "source": [
    "r = []\n",
    "for i in range(len(aurocs[0])):\n",
    "    total = 0\n",
    "    for j in range(len(aurocs)):\n",
    "        total += aurocs[j][i]\n",
    "    r.append(total)\n",
    "r.index(max(r))\n"
   ]
  },
  {
   "cell_type": "markdown",
   "metadata": {},
   "source": [
    "# Calculate the AUROC"
   ]
  },
  {
   "cell_type": "code",
   "execution_count": 6,
   "metadata": {},
   "outputs": [],
   "source": [
    "for file in os.listdir('./'):\n",
    "    if file.endswith('.pkl'):\n",
    "        with open(file, 'rb') as f:\n",
    "            data = pickle.load(f)"
   ]
  },
  {
   "cell_type": "code",
   "execution_count": null,
   "metadata": {},
   "outputs": [],
   "source": [
    "data"
   ]
  }
 ],
 "metadata": {
  "kernelspec": {
   "display_name": "base",
   "language": "python",
   "name": "python3"
  },
  "language_info": {
   "codemirror_mode": {
    "name": "ipython",
    "version": 3
   },
   "file_extension": ".py",
   "mimetype": "text/x-python",
   "name": "python",
   "nbconvert_exporter": "python",
   "pygments_lexer": "ipython3",
   "version": "3.12.4"
  }
 },
 "nbformat": 4,
 "nbformat_minor": 2
}
