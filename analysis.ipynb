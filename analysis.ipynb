{
 "cells": [
  {
   "cell_type": "code",
   "execution_count": 1,
   "metadata": {},
   "outputs": [],
   "source": [
    "from hidden_state.utils import load_generated_result\n",
    "import numpy as np"
   ]
  },
  {
   "cell_type": "code",
   "execution_count": 2,
   "metadata": {},
   "outputs": [
    {
     "name": "stdout",
     "output_type": "stream",
     "text": [
      "Reading file:  1c12337b-fc62-4ccb-8417-dd53df0fa5c5.npy\n"
     ]
    }
   ],
   "source": [
    "data = load_generated_result('opt', 'trivia_qa')"
   ]
  },
  {
   "cell_type": "code",
   "execution_count": 3,
   "metadata": {},
   "outputs": [
    {
     "data": {
      "text/plain": [
       "array([{'montecarlosequenceentropy': 35.94055792093277, 'lexicalsimilarity': -0.10487888369819637, 'semanticentropy': 18.042468476001858, 'maximumsequenceprobability': 7.05078125, 'sar': -2.9819668945385076, 'align': 1.0, 'inputs': 'Answer the question in five words or less.\\nQ: \"What fictional ship, with black hull and sails, was originally named \"\"Wicked Wench\"\"?\"\\nA:', 'target_texts': ['wicked wench', 'black pearl'], 'answer': ' \"The Black Pearl\"\\n'},\n",
       "       {'montecarlosequenceentropy': 21.57605743408203, 'lexicalsimilarity': -0.8, 'semanticentropy': 6.5976706668675575, 'maximumsequenceprobability': 1.3291015625, 'sar': -8.342386005139778, 'align': 1.0, 'inputs': 'Answer the question in five words or less.\\nQ: Which British TV series about cars that began in 1977 is presented by Jeremy Clarkson, Richard Hammond and James May, and features a test driver known as The Stig?\\nA:', 'target_texts': ['top gear tv series', 'top gear', 'top gear uk', 'top gear disambiguation', 'topgear'], 'answer': ' Top Gear\\n'},\n",
       "       {'montecarlosequenceentropy': 20.87061462402344, 'lexicalsimilarity': -0.016049382716049384, 'semanticentropy': 23.281609344482423, 'maximumsequenceprobability': 22.328125, 'sar': -1.8542903866079201, 'align': 0.2744346857070923, 'inputs': \"Answer the question in five words or less.\\nQ: Name Captain Flint's quartermaster in the novel Treasure Island?\\nA:\", 'target_texts': ['long john silver'], 'answer': ' The man who was the first to discover the treasure.\\n'},\n",
       "       ...,\n",
       "       {'montecarlosequenceentropy': 10.556035327911378, 'lexicalsimilarity': -0.0477037037037037, 'semanticentropy': 23.30858564376831, 'maximumsequenceprobability': 4.94140625, 'sar': -3.8738229782692484, 'align': 0.29948219656944275, 'inputs': 'Answer the question in five words or less.\\nQ: Who wrote the Palliser series of novels?\\nA:', 'target_texts': ['one of firm', 'trollope', 'trollopean', 'anthony trollope', 'anthony trollop'], 'answer': ' John Buchan\\n'},\n",
       "       {'montecarlosequenceentropy': 8.574375534057618, 'lexicalsimilarity': -0.03156107720623849, 'semanticentropy': 19.09898279700809, 'maximumsequenceprobability': 3.544921875, 'sar': -4.508883390474861, 'align': 1.0, 'inputs': 'Answer the question in five words or less.\\nQ: The city of Carrara, in the Italian region of Tuscany, is most famous for the production of what ?\\nA:', 'target_texts': ['onionstones', 'onionstone', 'emperador dark marble', 'wood vein marble', 'lucullite', 'tiger skin marble', 'lucullan', 'marbliness', 'brown marble', 'cipolin', 'marble', 'coral red marble', 'orange marble', 'onion stone', 'marble stone', 'marble rock', 'onion stones', 'white marble', 'nero marquina', 'marbly'], 'answer': ' Marble.\\n'},\n",
       "       {'montecarlosequenceentropy': 13.173606598377228, 'lexicalsimilarity': -0.13160974081294308, 'semanticentropy': 26.768539690971373, 'maximumsequenceprobability': 7.01171875, 'sar': -2.878234378604826, 'align': 0.6103852987289429, 'inputs': 'Answer the question in five words or less.\\nQ: What sort of animal was the invisible Harvey, in the 1950 film of that name?\\nA:', 'target_texts': ['rabbit disambiguation', 'rabbit'], 'answer': ' A rat.\\n'}],\n",
       "      dtype=object)"
      ]
     },
     "execution_count": 3,
     "metadata": {},
     "output_type": "execute_result"
    }
   ],
   "source": [
    "data"
   ]
  },
  {
   "cell_type": "code",
   "execution_count": null,
   "metadata": {},
   "outputs": [],
   "source": [
    "np.mean([d['align']>0.5 for d in data])"
   ]
  },
  {
   "cell_type": "code",
   "execution_count": null,
   "metadata": {},
   "outputs": [],
   "source": [
    "data[0].keys()"
   ]
  },
  {
   "cell_type": "code",
   "execution_count": null,
   "metadata": {},
   "outputs": [],
   "source": [
    "import matplotlib.pyplot as plt\n",
    "\n",
    "# Extract the list of values\n",
    "values = [d['sar'] for d in data]\n",
    "\n",
    "# Plot the distribution\n",
    "plt.figure(figsize=(10, 6))\n",
    "plt.hist(values, bins=30, edgecolor='black')\n",
    "plt.title('Distribution of Monte Carlo Sequence Entropy')\n",
    "plt.xlabel('Monte Carlo Sequence Entropy')\n",
    "plt.ylabel('Frequency')\n",
    "plt.grid(True)\n",
    "plt.show()\n"
   ]
  },
  {
   "cell_type": "code",
   "execution_count": null,
   "metadata": {},
   "outputs": [],
   "source": [
    "def min_max_normalization(data):\n",
    "    \"\"\"\n",
    "    Normalize a list of numbers to the range [0, 1] using Min-Max Scaling.\n",
    "\n",
    "    Parameters:\n",
    "    data (list of float): The input list of numbers.\n",
    "\n",
    "    Returns:\n",
    "    list of float: The normalized list in the range [0, 1].\n",
    "    \"\"\"\n",
    "    min_val = min(data)\n",
    "    max_val = max(data)\n",
    "    return [(x - min_val) / (max_val - min_val) if max_val != min_val else 0 for x in data]\n",
    "\n",
    "\n",
    "import matplotlib.pyplot as plt\n",
    "\n",
    "# Extract the list of values\n",
    "values = min_max_normalization([d['sar'] for d in data])\n",
    "# Plot the distribution\n",
    "plt.figure(figsize=(10, 6))\n",
    "plt.hist(values, bins=30, edgecolor='black')\n",
    "plt.title('Distribution of Monte Carlo Sequence Entropy')\n",
    "plt.xlabel('Monte Carlo Sequence Entropy')\n",
    "plt.ylabel('Frequency')\n",
    "plt.grid(True)\n",
    "plt.show()\n"
   ]
  },
  {
   "cell_type": "code",
   "execution_count": null,
   "metadata": {},
   "outputs": [],
   "source": [
    "def custom_normalization(data):\n",
    "    \"\"\"\n",
    "    Normalize a list of numbers such that:\n",
    "    - The bottom 70% of the data is scaled to [0, 0.5].\n",
    "    - The top 30% of the data is scaled to [0.5, 1].\n",
    "    \n",
    "    Parameters:\n",
    "    data (list of float): The input list of numbers.\n",
    "\n",
    "    Returns:\n",
    "    list of float: The transformed list with values in the range [0, 1].\n",
    "    \"\"\"\n",
    "    sorted_data = sorted(data)  # Sort the data to determine split\n",
    "    n = len(data)\n",
    "    split_index = int(n * 0.5)  # Find the index separating bottom 70% and top 30%\n",
    "\n",
    "    # Split into two groups\n",
    "    bottom_70 = sorted_data[:split_index]\n",
    "    top_30 = sorted_data[split_index:]\n",
    "\n",
    "    # Normalize bottom 70% to [0, 0.5]\n",
    "    min_70, max_70 = min(bottom_70), max(bottom_70)\n",
    "    bottom_70_scaled = [0.5 * (x - min_70) / (max_70 - min_70) if max_70 != min_70 else 0.25 for x in bottom_70]\n",
    "\n",
    "    # Normalize top 30% to [0.5, 1]\n",
    "    min_30, max_30 = min(top_30), max(top_30)\n",
    "    top_30_scaled = [0.5 + 0.5 * (x - min_30) / (max_30 - min_30) if max_30 != min_30 else 0.75 for x in top_30]\n",
    "\n",
    "    # Combine the results while maintaining original order\n",
    "    normalized_dict = {v: s for v, s in zip(bottom_70 + top_30, bottom_70_scaled + top_30_scaled)}\n",
    "    return [normalized_dict[x] for x in data]  # Return normalized values in original order\n",
    "\n",
    "import matplotlib.pyplot as plt\n",
    "\n",
    "# Extract the list of values\n",
    "values = custom_normalization([d['sar'] for d in data])\n",
    "# Plot the distribution\n",
    "plt.figure(figsize=(10, 6))\n",
    "plt.hist(values, bins=30, edgecolor='black')\n",
    "plt.title('Distribution of Monte Carlo Sequence Entropy')\n",
    "plt.xlabel('Monte Carlo Sequence Entropy')\n",
    "plt.ylabel('Frequency')\n",
    "plt.grid(True)\n",
    "plt.show()\n",
    "\n"
   ]
  }
 ],
 "metadata": {
  "kernelspec": {
   "display_name": "polygraph",
   "language": "python",
   "name": "python3"
  },
  "language_info": {
   "codemirror_mode": {
    "name": "ipython",
    "version": 3
   },
   "file_extension": ".py",
   "mimetype": "text/x-python",
   "name": "python",
   "nbconvert_exporter": "python",
   "pygments_lexer": "ipython3",
   "version": "3.10.16"
  }
 },
 "nbformat": 4,
 "nbformat_minor": 2
}
